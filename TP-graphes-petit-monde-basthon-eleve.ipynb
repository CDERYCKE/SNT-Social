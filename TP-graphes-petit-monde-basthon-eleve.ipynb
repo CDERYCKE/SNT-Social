{
 "cells": [
  {
   "cell_type": "markdown",
   "metadata": {},
   "source": [
    "# TP - Réseaux sociaux et graphes"
   ]
  },
  {
   "cell_type": "markdown",
   "metadata": {},
   "source": [
    "__Introduction :__\n",
    "\n",
    "La notion de «réseau social» apparaît bien avant les réseaux sociaux sur internet ; elle est étudiée à la fin du 19ème siècle en sciences sociales, puis à nouveau dans le courant du vingtième siècle.\n",
    "\n",
    "Un réseau social est un ensemble de liens entre individus, cet ensemble constituant une communauté qui partage des convictions ou des valeurs. L’analyse des réseaux sociaux utilise des graphes pour représenter un réseau. \n",
    "\n",
    "Le terme de «réseau social» désigne également des applications web qui offrent de mettre en relation des internautes afin de discuter de leurs centres d’intérêts.\n",
    "\n",
    "\n"
   ]
  },
  {
   "cell_type": "markdown",
   "metadata": {},
   "source": [
    "## Rappel de vocabulaire sur les graphes"
   ]
  },
  {
   "cell_type": "markdown",
   "metadata": {},
   "source": [
    "Les personnes sont représentées par les **sommets** du graphe et relations d’amitié par les **arêtes**.\n",
    "\n",
    "La **distance** entre deux sommets est le nombre minimum d’arêtes qu’il faut parcourir pour aller d’un sommet à un autre.\n",
    "\n",
    "Le **diamètre** d’un graphe est la distance maximale entre deux sommets de ce graphe. \n",
    "\n",
    "Le **centre** d’un graphe est l’ensemble des sommets d’écartement minimal. \n",
    "\n",
    "Le **rayon** d’un graphe est l’écartement d’un des sommets du centre du graphe. \n"
   ]
  },
  {
   "cell_type": "markdown",
   "metadata": {},
   "source": [
    "<div class=\"alert alert-info\" role=\"alert\">\n",
    "  <strong>Travail à faire sur le notebook : </strong> <br>\n",
    "    Pour les cellules suivantes, appuyez sur <strong>shift + entrée</strong> pour lancer le code Python contenu dans chaque cellule\n",
    "</div>"
   ]
  },
  {
   "cell_type": "code",
   "execution_count": null,
   "metadata": {},
   "outputs": [],
   "source": [
    "# importation du module \"matplotlib\" pour créer des graphiques\n",
    "import matplotlib.pyplot as plt\n",
    "\n",
    "# importation du module \"networkx\" pour simuler un réseau social\n",
    "import networkx as nx\n",
    "import warnings\n",
    "warnings.filterwarnings(\"ignore\", category=UserWarning) # pour filtrer erreur sur fonction deprecated"
   ]
  },
  {
   "cell_type": "markdown",
   "metadata": {},
   "source": [
    "## 1 - Comment tracer un graphe en Python"
   ]
  },
  {
   "cell_type": "markdown",
   "metadata": {},
   "source": [
    "On veut tracer le graphe de la feuille de TD correspondant aux relations entre 6 personnes A, B,C, D, E et F :\n",
    "<img src=\"https://raw.githubusercontent.com/CDERYCKE/SNT-Social/c3315cd7c5bb3366590e09dc1a1c22addc5e86c0/images/graphe1.jpg\" title=\"graphe à tracer\" width=700, height=300 align=\"center\" />"
   ]
  },
  {
   "cell_type": "code",
   "execution_count": null,
   "metadata": {},
   "outputs": [],
   "source": [
    "# création d'un graphe vide non orienté appelé \"monReseau\"\n",
    "monReseau = nx.Graph()\n",
    "\n",
    "monReseau.add_node(\"A\") # ajoute un sommet / un noeud nommé \"A\"\n",
    "monReseau.add_node(\"B\")\n",
    "monReseau.add_node(\"C\")\n",
    "monReseau.add_node(\"D\")\n",
    "monReseau.add_node(\"E\")\n",
    "\n",
    "\n",
    "# dessine (draw) et affiche (show) le graphe \"monReseau\"\n",
    "nx.draw(monReseau, node_color='yellow', with_labels=True)\n",
    "plt.show()\n"
   ]
  },
  {
   "cell_type": "markdown",
   "metadata": {},
   "source": [
    "Il manque le noeud F.  \n",
    "--> Ecrire une ligne de code en s'inspirant des lignes précédentes pour ajouter le noeud F."
   ]
  },
  {
   "cell_type": "code",
   "execution_count": null,
   "metadata": {},
   "outputs": [],
   "source": [
    "plt.close() # nécessaire sous basthon pour remettre l'affichage à zéro\n",
    "# ajouter votre ligne de code ici\n",
    "\n",
    "\n",
    "\n",
    "# dessine (draw) et affiche (show) le graphe \"monReseau\"\n",
    "nx.draw(monReseau, node_color='yellow', with_labels=True)\n",
    "plt.show()\n"
   ]
  },
  {
   "cell_type": "markdown",
   "metadata": {},
   "source": [
    "Il faut maintenant ajouter les liens entre les différents noeuds (sommets) du réseau :"
   ]
  },
  {
   "cell_type": "code",
   "execution_count": null,
   "metadata": {},
   "outputs": [],
   "source": [
    "plt.close()\n",
    "monReseau.add_edge(\"A\", \"B\") # ajoute une arête entre A et B\n",
    "monReseau.add_edge(\"A\", \"C\")\n",
    "monReseau.add_edge(\"A\", \"D\")\n",
    "monReseau.add_edge(\"D\", \"F\")\n",
    "\n",
    "nx.draw(monReseau, node_color='yellow', with_labels=True)\n",
    "plt.show()"
   ]
  },
  {
   "cell_type": "markdown",
   "metadata": {},
   "source": [
    "E est tout seul !\n",
    "\n",
    "Il manque des liens entre des personnes du réseau !\n"
   ]
  },
  {
   "cell_type": "markdown",
   "metadata": {},
   "source": [
    "<div class=\"alert alert-info\" role=\"alert\">\n",
    "  <strong>Travail à faire sur le notebook : </strong> <br>\n",
    "    Ajouter ci-dessous les lignes de code nécessaires pour obtenir le graphe voulu :\n",
    "<img src=\"https://raw.githubusercontent.com/CDERYCKE/SNT-Social/c3315cd7c5bb3366590e09dc1a1c22addc5e86c0/images/graphe1.jpg\" title=\"graphe à tracer\" width=700, height=300 align=\"center\" />\n",
    "</div>"
   ]
  },
  {
   "cell_type": "code",
   "execution_count": null,
   "metadata": {},
   "outputs": [],
   "source": [
    "plt.close()\n",
    "# votre code ici\n",
    "\n",
    "\n",
    "\n",
    "# pour dessiner le nouveau graphe\n",
    "nx.draw(monReseau, node_color='yellow', with_labels=True)\n",
    "plt.show()"
   ]
  },
  {
   "cell_type": "markdown",
   "metadata": {},
   "source": [
    "<div class=\"alert alert-warning\" role=\"alert\">\n",
    "    <strong> Travail à faire sur la fiche réponse : </strong> <br>\n",
    "    --> Répondre aux questions.  \n",
    "</div>"
   ]
  },
  {
   "cell_type": "markdown",
   "metadata": {},
   "source": [
    "***"
   ]
  },
  {
   "cell_type": "markdown",
   "metadata": {},
   "source": [
    "On peut obtenir des informations sur le graphe : nombre de personnes ( noeud ou node en anglais), nombre de liens (arêtes ou edge en anglais)"
   ]
  },
  {
   "cell_type": "code",
   "execution_count": null,
   "metadata": {},
   "outputs": [],
   "source": [
    "print(\"Nombre de personnes =\", monReseau.number_of_nodes())\n",
    "print(\"Nombre de liens =\", monReseau.number_of_edges())"
   ]
  },
  {
   "cell_type": "markdown",
   "metadata": {},
   "source": [
    "Pour obtenir d'autres informations comme le diamètre, le rayon, le centre, il faut importer d'autres fonctions du module networkx"
   ]
  },
  {
   "cell_type": "markdown",
   "metadata": {},
   "source": [
    "<div class=\"alert alert-info\" role=\"alert\">\n",
    "  <strong>Travail à faire sur le notebook : </strong> <br>\n",
    "    Pour les cellules suivantes, appuyez sur shift entrée pour lancer le code Python contenu dans cette cellule\n",
    "</div>"
   ]
  },
  {
   "cell_type": "code",
   "execution_count": null,
   "metadata": {},
   "outputs": [],
   "source": [
    "from networkx import diameter,radius,center"
   ]
  },
  {
   "cell_type": "code",
   "execution_count": null,
   "metadata": {},
   "outputs": [],
   "source": [
    "print(\"Diamètre=\", diameter(monReseau)) \n",
    "print(\"Rayon=\", radius(monReseau))\n",
    "print(\"Centre=\", center(monReseau))"
   ]
  },
  {
   "cell_type": "markdown",
   "metadata": {},
   "source": [
    "<div class=\"alert alert-warning\" role=\"alert\">\n",
    "    <strong> Travail à faire sur la fiche réponse : </strong> <br>\n",
    "    --> Répondre aux questions\n",
    "</div>"
   ]
  },
  {
   "cell_type": "markdown",
   "metadata": {},
   "source": [
    "## 2 - Réseaux sociaux et histoire : Les Médicis à Florence"
   ]
  },
  {
   "cell_type": "markdown",
   "metadata": {},
   "source": [
    "Pourquoi les Médicis ont-ils réussi à s’imposer à Florence, face à des familles et clans tout aussi puissants qu’eux ?\n",
    "\n",
    "Le pouvoir des Médicis sur la cité florentine s’établit au début du XVe siècle grâce à Cosimo de’ Medici (1389-1464), dit aussi Cosme l’ancien. Leur ascension peut initialement paraître surprenante, les Médicis étant une famille objectivement moins puissante que bien d’autres familles de l’oligarchie alors au pouvoir.\n",
    "\n",
    "Les Strozzi, par exemple étaient à la fois plus riches, et plus puissants politiquement, possédant notamment plus de sièges dans les instances législatives.\n",
    "\n",
    "Les relations entre les familles florentines sont déjà codées dans le module networkx.\n"
   ]
  },
  {
   "cell_type": "markdown",
   "metadata": {},
   "source": [
    "<div class=\"alert alert-info\" role=\"alert\">\n",
    "  <strong>Travail à faire sur le notebook : </strong> <br>\n",
    "    Pour les cellules suivantes, appuyez sur shift entrée pour lancer le code Python contenu dans cette cellule <br>\n",
    "    \n",
    "</div>"
   ]
  },
  {
   "cell_type": "code",
   "execution_count": null,
   "metadata": {},
   "outputs": [],
   "source": [
    "plt.close()\n",
    "F=nx.florentine_families_graph() #\n",
    "nx.draw(F, node_color='purple', with_labels=True)\n",
    "\n",
    "plt.show()"
   ]
  },
  {
   "cell_type": "markdown",
   "metadata": {},
   "source": [
    "**Que représente ce graphe ?**\n",
    "\n",
    "liens par mariages entre les familles importantes de la ville de Florence pendant le 15e siècle.\n",
    "\n",
    "Il s'agit de la période aucours de laquelle les Médicis ont pris le pouvoir dans la ville de Florence.\n",
    "\n",
    "Plusieurs mariages \"clés\" ont été organisés par “Cosimo de Medici”"
   ]
  },
  {
   "cell_type": "markdown",
   "metadata": {},
   "source": [
    "<div class=\"alert alert-info\" role=\"alert\">\n",
    "  <strong>Travail à faire sur le notebook : </strong> <br>\n",
    "Le graphe s'appelle F.  \n",
    "    \n",
    "En s'inspirant de l'exemple précédent , proposez les lignes de code qui déterminent centre, diamètre et rayon de ce graphe    \n",
    "</div>"
   ]
  },
  {
   "cell_type": "code",
   "execution_count": null,
   "metadata": {},
   "outputs": [],
   "source": [
    "# votre code ici\n",
    "\n",
    "\n"
   ]
  },
  {
   "cell_type": "markdown",
   "metadata": {},
   "source": [
    "Les Médicis sont bien au centre du graphe mais ils ne sont pas les seuls !\n",
    "\n",
    "On peut étudier le degré du noeud correspondant aux Médicis : le degré d'un sommet est le nombre d'arêtes qui partent de ce sommet (ses liens)."
   ]
  },
  {
   "cell_type": "code",
   "execution_count": null,
   "metadata": {},
   "outputs": [],
   "source": [
    "F.degree('Medici')"
   ]
  },
  {
   "cell_type": "markdown",
   "metadata": {},
   "source": [
    "et on peut faire une boucle pour comparer aux autres familles :"
   ]
  },
  {
   "cell_type": "code",
   "execution_count": null,
   "metadata": {},
   "outputs": [],
   "source": [
    "for name in F.nodes():\n",
    "    print( name, F.degree(name))"
   ]
  },
  {
   "cell_type": "markdown",
   "metadata": {},
   "source": [
    "Notre approche (simpliste) permet de vérifier le rôle crucial tenu par la famille des Médicis grâce aux mariages avec d'autres familles florentines."
   ]
  },
  {
   "cell_type": "markdown",
   "metadata": {},
   "source": [
    "<div class=\"alert alert-warning\" role=\"alert\">\n",
    "    <strong> Travail à faire sur la fiche réponse : </strong> <br>\n",
    "    --> Répondre aux questions\n",
    "</div>"
   ]
  },
  {
   "cell_type": "markdown",
   "metadata": {},
   "source": [
    "# 3 -  Réseaux sociaux et petit monde"
   ]
  },
  {
   "cell_type": "markdown",
   "metadata": {},
   "source": [
    "**Le petit monde :**  \n",
    "\n",
    "Stanley Milgram, psychologue social américain, publie en 1967 un article, « The Small-World Problem », dans lequel est proposée la conclusion que, dans une société de masse, pratiquement tous les individus sont reliés les uns aux autres dans un vaste réseau, et que la distance moyenne entre deux individus quelconques devait être d’environ 6 intermédiaires."
   ]
  },
  {
   "cell_type": "markdown",
   "metadata": {},
   "source": [
    "## A - Exemple commenté à étudier"
   ]
  },
  {
   "cell_type": "markdown",
   "metadata": {},
   "source": [
    "On utilise un générateur de graphe aléatoire :  \n"
   ]
  },
  {
   "cell_type": "code",
   "execution_count": null,
   "metadata": {},
   "outputs": [],
   "source": [
    "plt.close()\n",
    "degre = 3 # nombre de liaisons\n",
    "noeuds = 24 # nombre de noeuds\n",
    "G1 = nx.random_regular_graph(degre, noeuds) # G1 est donc le nom de ce graphe\n",
    "nx.draw(G1, with_labels=True)\n",
    "plt.show()"
   ]
  },
  {
   "cell_type": "markdown",
   "metadata": {},
   "source": [
    "Observer le graphe et vérifier qu'il a bien 24 noeuds et que chaque noeud a 3 liaisons (degré=3)."
   ]
  },
  {
   "cell_type": "markdown",
   "metadata": {},
   "source": [
    "On va calculer les propriétés de ce graphe : "
   ]
  },
  {
   "cell_type": "markdown",
   "metadata": {},
   "source": [
    "**Etude du degré de chaque noeud**"
   ]
  },
  {
   "cell_type": "code",
   "execution_count": null,
   "metadata": {},
   "outputs": [],
   "source": [
    "for name in sorted(G1.nodes()):\n",
    "    print( \"le noeud n° :\", name, \"a un degré égal à : \", G1.degree(name)) # on affiche le n° de chaque noeud suivi du degré de ce noeud"
   ]
  },
  {
   "cell_type": "markdown",
   "metadata": {},
   "source": [
    "comme prévu chaque noeud a bien 3 connections.  \n",
    "\n",
    "On importe ensuite les fonctions utiles :"
   ]
  },
  {
   "cell_type": "markdown",
   "metadata": {},
   "source": [
    "<div class=\"alert alert-info\" role=\"alert\">\n",
    "  <strong>Travail à faire sur le notebook : </strong> <br>\n",
    "    Pour les cellules suivantes, appuyez sur <strong>shift + entrée</strong> pour lancer le code Python contenu dans chaque cellule\n",
    "</div>"
   ]
  },
  {
   "cell_type": "code",
   "execution_count": null,
   "metadata": {},
   "outputs": [],
   "source": [
    "from networkx import diameter,radius,center"
   ]
  },
  {
   "cell_type": "code",
   "execution_count": null,
   "metadata": {},
   "outputs": [],
   "source": [
    "print(\"Diamètre =\", diameter(G1)) \n",
    "print(\"Rayon =\", radius(G1))\n",
    "print(\"Centre =\", center(G1))"
   ]
  },
  {
   "cell_type": "markdown",
   "metadata": {},
   "source": [
    "On veut maintenant étudier le plus court chemin, il existe des fonctions qui fait cela pour nous :  \n",
    "\n",
    "**nx.shortest_path_length**(nom du graphe, source=n° de départ, target=n° d'arrivée, weight=None, method='dijkstra')  \n",
    "\n",
    "**nx.shortest_path**(nom du graphe,source=n° de départ, target=n° d'arrivée)\n"
   ]
  },
  {
   "cell_type": "markdown",
   "metadata": {},
   "source": [
    "<div class=\"alert alert-info\" role=\"alert\">\n",
    "  <strong>Travail à faire sur le notebook : </strong> <br>\n",
    "    Pour les cellules suivantes, appuyez sur <strong>shift + entrée</strong> pour lancer le code Python contenu dans chaque cellule\n",
    "</div>"
   ]
  },
  {
   "cell_type": "code",
   "execution_count": null,
   "metadata": {},
   "outputs": [],
   "source": [
    "# exemple 1 :\n",
    "chemin=nx.shortest_path(G1, source=1, target=10, weight=None, method='dijkstra')\n",
    "\n",
    "print(\"Le plus court chemin entre 1 et 10 est :\",chemin)"
   ]
  },
  {
   "cell_type": "code",
   "execution_count": null,
   "metadata": {},
   "outputs": [],
   "source": [
    "# exemple 2 :\n",
    "longueur=nx.shortest_path_length(G1, source=1, target=10, weight=None, method='dijkstra')\n",
    "\n",
    "print(\"Le chemin entre 1 et 10 comporte :\",longueur, 'liens')"
   ]
  },
  {
   "cell_type": "markdown",
   "metadata": {},
   "source": [
    "<div class=\"alert alert-info\" role=\"alert\">\n",
    "  <strong>Travail à faire sur le notebook : </strong> <br>\n",
    "    Pour les cellules suivantes, appuyez sur <strong>shift + entrée</strong> pour lancer le code Python contenu dans chaque cellule\n",
    "</div>"
   ]
  },
  {
   "cell_type": "markdown",
   "metadata": {},
   "source": [
    "## B - A vous de jouer"
   ]
  },
  {
   "cell_type": "markdown",
   "metadata": {},
   "source": [
    "On étudie un réseau social : les relations entre personnes dans un club de karaté.  \n",
    "\n",
    "https://en.wikipedia.org/wiki/Zachary's_karate_club "
   ]
  },
  {
   "cell_type": "code",
   "execution_count": null,
   "metadata": {},
   "outputs": [],
   "source": [
    "plt.close()\n",
    "G=nx.karate_club_graph() # G est donc le nom du graphe\n",
    "layout = nx.spring_layout(G,iterations=100)\n",
    "plt.figure(figsize=(15,10))\n",
    "plt.axis(\"off\") \n",
    "nx.draw_networkx(G, layout, node_color='yellow',with_labels=True,  )\n",
    "plt.show()"
   ]
  },
  {
   "cell_type": "markdown",
   "metadata": {},
   "source": [
    "<div class=\"alert alert-warning\" role=\"alert\">\n",
    "    <strong> Travail à faire : : </strong> <br>\n",
    "    --> écrire le code qui permet de trouver diamètre, centre et rayon de ce graphe puis le noeud de plus haut degré <br>\n",
    "    --> n'hésitez pas à faire du copier-coller (à adapter) <br>\n",
    "    --> compléter la feuille réponse \n",
    "</div>"
   ]
  },
  {
   "cell_type": "code",
   "execution_count": null,
   "metadata": {},
   "outputs": [],
   "source": [
    "# votre code ici :\n",
    "\n"
   ]
  },
  {
   "cell_type": "markdown",
   "metadata": {},
   "source": [
    "<div class=\"alert alert-warning\" role=\"alert\">\n",
    "    <strong> Travail à faire : : </strong> <br>\n",
    "    --> écrire le code qui permet de trouver le plus court chemin entre le noeud n° 17 et le noeud n° 25  <br>\n",
    "    --> compléter la feuille réponse \n",
    "</div>"
   ]
  },
  {
   "cell_type": "code",
   "execution_count": null,
   "metadata": {},
   "outputs": [],
   "source": [
    "# votre code ici :\n",
    " \n",
    "\n"
   ]
  },
  {
   "cell_type": "markdown",
   "metadata": {},
   "source": [
    "<div class=\"alert alert-warning\" role=\"alert\">\n",
    "    <strong> Travail à faire : : </strong> <br>\n",
    "    --> écrire le code qui permet de trouver la longueur du chemin entre entre le noeud n° 9 et le noeud n° 11  <br>\n",
    "    --> compléter la feuille réponse \n",
    "</div>"
   ]
  },
  {
   "cell_type": "code",
   "execution_count": null,
   "metadata": {},
   "outputs": [],
   "source": [
    "# votre code ici :\n"
   ]
  },
  {
   "cell_type": "markdown",
   "metadata": {},
   "source": [
    "On veut maintenant étudier tous les chemins possibles, puis calculer la longueur moyenne.  \n"
   ]
  },
  {
   "cell_type": "markdown",
   "metadata": {},
   "source": [
    "<div class=\"alert alert-warning\" role=\"alert\">\n",
    "    <strong> Travail à faire : : </strong> <br>\n",
    "    --> étudier le code qui permet de trouver la valeur moyenne des plus courts chemins <br>\n",
    "    --> compléter la feuille réponse \n",
    "</div>"
   ]
  },
  {
   "cell_type": "code",
   "execution_count": null,
   "metadata": {},
   "outputs": [],
   "source": [
    "liste=[]\n",
    "\n",
    "for i in G2.nodes :\n",
    "    for j in G2.nodes:\n",
    "        if i!=j:\n",
    "            mini=nx.shortest_path_length(G2, source=i, target=j, weight=None, method='dijkstra')\n",
    "            liste.append(mini)\n",
    "\n",
    "            \n",
    "print(min(liste))\n",
    "\n",
    "print(max(liste))\n",
    "\n",
    "print(sum(liste)/len(liste))\n"
   ]
  },
  {
   "cell_type": "code",
   "execution_count": null,
   "metadata": {},
   "outputs": [],
   "source": []
  },
  {
   "cell_type": "markdown",
   "metadata": {},
   "source": [
    "<div class=\"alert alert-success\" role=\"alert\">\n",
    " <strong> Le travail est terminé !</strong> <br>\n",
    "</div>"
   ]
  }
 ],
 "metadata": {
  "kernelspec": {
   "display_name": "Python 3",
   "language": "python",
   "name": "python3"
  },
  "language_info": {
   "codemirror_mode": {
    "name": "ipython",
    "version": 3
   },
   "file_extension": ".py",
   "mimetype": "text/x-python",
   "name": "python",
   "nbconvert_exporter": "python",
   "pygments_lexer": "ipython3",
   "version": "3.7.9"
  }
 },
 "nbformat": 4,
 "nbformat_minor": 4
}

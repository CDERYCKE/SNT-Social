{
 "cells": [
  {
   "cell_type": "markdown",
   "metadata": {},
   "source": [
    "# Graphes - Réseaux sociaux et petit monde"
   ]
  },
  {
   "cell_type": "markdown",
   "metadata": {},
   "source": [
    "**Le petit monde :**  \n",
    "\n",
    "Stanley Milgram, psychologue social américain, publie en 1967 un article, « The Small-World Problem », dans lequel est proposée la conclusion que, dans une société de masse, pratiquement tous les individus sont reliés les uns aux autres dans un vaste réseau, et que la distance moyenne entre deux individus quelconques devait être d’environ 6 intermédiaires."
   ]
  },
  {
   "cell_type": "markdown",
   "metadata": {},
   "source": [
    "Nous allons étudier cela avec la théorie des graphes et Python."
   ]
  },
  {
   "cell_type": "markdown",
   "metadata": {},
   "source": [
    "On importe les bibliothèques nécessaires pour calculer et tracer les graphes."
   ]
  },
  {
   "cell_type": "markdown",
   "metadata": {},
   "source": [
    "<div class=\"alert alert-info\" role=\"alert\">\n",
    "  <strong>Travail à faire sur le notebook : </strong> <br>\n",
    "    Pour les cellules suivantes, appuyez sur <strong>shift  + entrée</strong> pour lancer le code Python contenu dans chaque cellule\n",
    "</div>"
   ]
  },
  {
   "cell_type": "code",
   "execution_count": null,
   "metadata": {},
   "outputs": [],
   "source": [
    "import networkx as nx\n",
    "import numpy as np\n",
    "import matplotlib.pyplot as plt\n",
    "import warnings\n",
    "warnings.filterwarnings(\"ignore\", category=UserWarning) # pour filtrer erreur sur fonction deprecated"
   ]
  },
  {
   "cell_type": "markdown",
   "metadata": {},
   "source": [
    "## 1 - Exemple commenté à étudier"
   ]
  },
  {
   "cell_type": "markdown",
   "metadata": {},
   "source": [
    "On utilise un générateur de graphe aléatoire :  \n"
   ]
  },
  {
   "cell_type": "code",
   "execution_count": null,
   "metadata": {},
   "outputs": [],
   "source": [
    "degre = 3 # nombre de liaisons\n",
    "noeuds = 24 # nombre de noeuds\n",
    "G1 = nx.random_regular_graph(degre, noeuds)\n",
    "nx.draw(G1, with_labels=True)\n",
    "plt.show()"
   ]
  },
  {
   "cell_type": "markdown",
   "metadata": {},
   "source": [
    "Observer le graphe et vérifier qu'il a bien 24 noeuds et que chaque noeud a 3 liaisons (degré=3)."
   ]
  },
  {
   "cell_type": "markdown",
   "metadata": {},
   "source": [
    "On va calculer les propriétés de ce graphe : "
   ]
  },
  {
   "cell_type": "markdown",
   "metadata": {},
   "source": [
    "Etude du degré de chaque noeud"
   ]
  },
  {
   "cell_type": "code",
   "execution_count": null,
   "metadata": {},
   "outputs": [],
   "source": [
    "for name in sorted(G1.nodes()):\n",
    "    print( \"le noeud n° :\", name, \"a un degré égal à : \", G1.degree(name)) # on affiche le n° de chaque noeud suivi du degré de ce noeud"
   ]
  },
  {
   "cell_type": "markdown",
   "metadata": {},
   "source": [
    "comme prévu chaque noeud a bien 3 connections.  \n",
    "\n",
    "On importe ensuite les fonctions utiles :"
   ]
  },
  {
   "cell_type": "markdown",
   "metadata": {},
   "source": [
    "<div class=\"alert alert-info\" role=\"alert\">\n",
    "  <strong>Travail à faire sur le notebook : </strong> <br>\n",
    "    Pour les cellules suivantes, appuyez sur <strong>shift + entrée</strong> pour lancer le code Python contenu dans chaque cellule\n",
    "</div>"
   ]
  },
  {
   "cell_type": "code",
   "execution_count": null,
   "metadata": {},
   "outputs": [],
   "source": [
    "from networkx import diameter,radius,center"
   ]
  },
  {
   "cell_type": "code",
   "execution_count": null,
   "metadata": {},
   "outputs": [],
   "source": [
    "print(\"Diamètre =\", diameter(G1)) \n",
    "print(\"Rayon =\", radius(G1))\n",
    "print(\"Centre =\", center(G1))"
   ]
  },
  {
   "cell_type": "markdown",
   "metadata": {},
   "source": [
    "On veut maintenant étudier le plus court chemin, il existe des fonctions qui fait cela pour nous :  \n",
    "\n",
    "**nx.shortest_path_length**(nom du graphe, source=n° de départ, target=n° d'arrivée, weight=None, method='dijkstra')  \n",
    "\n",
    "**nx.shortest_path**(nom du graphe,source=n° de départ, target=n° d'arrivée)\n"
   ]
  },
  {
   "cell_type": "markdown",
   "metadata": {},
   "source": [
    "<div class=\"alert alert-info\" role=\"alert\">\n",
    "  <strong>Travail à faire sur le notebook : </strong> <br>\n",
    "    Pour les cellules suivantes, appuyez sur <strong>shift + entrée</strong> pour lancer le code Python contenu dans chaque cellule\n",
    "</div>"
   ]
  },
  {
   "cell_type": "code",
   "execution_count": null,
   "metadata": {},
   "outputs": [],
   "source": [
    "# exemple 1 :\n",
    "chemin=nx.shortest_path(G1, source=1, target=10, weight=None, method='dijkstra')\n",
    "\n",
    "print(\"Le plus court chemin entre 1 et 10 est :\",chemin)"
   ]
  },
  {
   "cell_type": "code",
   "execution_count": null,
   "metadata": {},
   "outputs": [],
   "source": [
    "# exemple 2 :\n",
    "longueur=nx.shortest_path_length(G1, source=1, target=10, weight=None, method='dijkstra')\n",
    "\n",
    "print(\"Le chemin entre 1 et 10 comporte :\",longueur, 'liens')"
   ]
  },
  {
   "cell_type": "markdown",
   "metadata": {},
   "source": [
    "## 2 - Travail à effectuer"
   ]
  },
  {
   "cell_type": "markdown",
   "metadata": {},
   "source": [
    "On étudie un réseau social : les relations entre personnes dans un club de karaté.  \n",
    "\n",
    "https://en.wikipedia.org/wiki/Zachary's_karate_club "
   ]
  },
  {
   "cell_type": "markdown",
   "metadata": {},
   "source": [
    "<div class=\"alert alert-info\" role=\"alert\">\n",
    "  <strong>Travail à faire sur le notebook : </strong> <br>\n",
    "    Pour les cellules suivantes, appuyez sur <strong>shift + entrée</strong> pour lancer le code Python contenu dans chaque cellule\n",
    "</div>"
   ]
  },
  {
   "cell_type": "code",
   "execution_count": null,
   "metadata": {},
   "outputs": [],
   "source": [
    "plt.close()\n",
    "G2=nx.karate_club_graph()\n",
    "layout = nx.spring_layout(G2,iterations=100)\n",
    "plt.figure(figsize=(10,10))\n",
    "plt.axis(\"off\") \n",
    "nx.draw_networkx(G2, layout, node_color='yellow',with_labels=True,  )\n",
    "plt.show()"
   ]
  },
  {
   "cell_type": "markdown",
   "metadata": {},
   "source": [
    "<div class=\"alert alert-warning\" role=\"alert\">\n",
    "    <strong> Travail à faire : : </strong> <br>\n",
    "    --> écrire le code qui permet de trouver diamètre, centre et rayon de ce graphe puis le noeud de plus haut degré <br>\n",
    "    --> n'hésitez pas à faire du copier-coller (à adapter) <br>\n",
    "    --> compléter la feuille réponse \n",
    "</div>"
   ]
  },
  {
   "cell_type": "code",
   "execution_count": null,
   "metadata": {},
   "outputs": [],
   "source": [
    "# votre code ici :\n",
    "\n"
   ]
  },
  {
   "cell_type": "markdown",
   "metadata": {},
   "source": [
    "<div class=\"alert alert-warning\" role=\"alert\">\n",
    "    <strong> Travail à faire : : </strong> <br>\n",
    "    --> écrire le code qui permet de trouver le plus court chemin entre le noeud n° 17 et le noeud n° 25  <br>\n",
    "    --> compléter la feuille réponse \n",
    "</div>"
   ]
  },
  {
   "cell_type": "code",
   "execution_count": null,
   "metadata": {},
   "outputs": [],
   "source": [
    "# votre code ici :\n",
    " \n",
    "\n"
   ]
  },
  {
   "cell_type": "markdown",
   "metadata": {},
   "source": [
    "<div class=\"alert alert-warning\" role=\"alert\">\n",
    "    <strong> Travail à faire : : </strong> <br>\n",
    "    --> écrire le code qui permet de trouver la longueur du chemin entre entre le noeud n° 9 et le noeud n° 11  <br>\n",
    "    --> compléter la feuille réponse \n",
    "</div>"
   ]
  },
  {
   "cell_type": "code",
   "execution_count": null,
   "metadata": {},
   "outputs": [],
   "source": [
    "# votre code ici :\n"
   ]
  },
  {
   "cell_type": "markdown",
   "metadata": {},
   "source": [
    "On veut maintenant étudier tous les chemins possibles, puis calculer la longueur moyenne.  \n"
   ]
  },
  {
   "cell_type": "markdown",
   "metadata": {},
   "source": [
    "<div class=\"alert alert-warning\" role=\"alert\">\n",
    "    <strong> Travail à faire : : </strong> <br>\n",
    "    --> étudier le code qui permet de trouver la valeur moyenn des plus courts chemins <br>\n",
    "    --> compléter la feuille réponse \n",
    "</div>"
   ]
  },
  {
   "cell_type": "code",
   "execution_count": null,
   "metadata": {},
   "outputs": [],
   "source": [
    "liste=[]\n",
    "\n",
    "for i in G2.nodes :\n",
    "    for j in G2.nodes:\n",
    "        if i!=j:\n",
    "            mini=nx.shortest_path_length(G2, source=i, target=j, weight=None, method='dijkstra')\n",
    "            liste.append(mini)\n",
    "\n",
    "            \n",
    "print(min(liste))\n",
    "\n",
    "print(max(liste))\n",
    "\n",
    "print(sum(liste)/len(liste))\n"
   ]
  },
  {
   "cell_type": "markdown",
   "metadata": {},
   "source": [
    "## 3 - Un grand réseau (pour les plus rapides et motivés :-)"
   ]
  },
  {
   "cell_type": "markdown",
   "metadata": {},
   "source": [
    "On utilise un générateur de graphe aléatoire :  \n",
    "newman_watts_strogatz_graph(nombre de noeuds du réseau, nombre de premiers voisins connectés, probabilité de modifier la connection initiale) "
   ]
  },
  {
   "cell_type": "code",
   "execution_count": null,
   "metadata": {},
   "outputs": [],
   "source": [
    "plt.close() # pour fermer l'ancien graphe\n",
    "\n",
    "noeuds =200\n",
    "liens = 5\n",
    "proba=0.35\n",
    "\n",
    "G3 = nx.newman_watts_strogatz_graph(noeuds, liens, proba, seed = 12345 )\n",
    "fig = plt.figure(\"Petit monde\", figsize=(20, 20))\n",
    "pos = nx.spring_layout(G3)\n",
    "nx.draw(G3,pos)\n",
    "fig.tight_layout()\n",
    "plt.show()"
   ]
  },
  {
   "cell_type": "markdown",
   "metadata": {},
   "source": [
    "<div class=\"alert alert-warning\" role=\"alert\">\n",
    "    <strong> Travail à faire : : </strong> <br>\n",
    "    --> écrire le code qui permet de trouver la longueur moyenne du chemin  2 noeuds  <br>\n",
    "    --> Faire vérifier\n",
    "</div>"
   ]
  },
  {
   "cell_type": "code",
   "execution_count": null,
   "metadata": {},
   "outputs": [],
   "source": [
    "# votre code \n"
   ]
  },
  {
   "cell_type": "markdown",
   "metadata": {},
   "source": [
    "<div class=\"alert alert-success\" role=\"alert\">\n",
    " <strong> Le travail est terminé !</strong> <br>\n",
    "</div>"
   ]
  },
  {
   "cell_type": "markdown",
   "metadata": {},
   "source": [
    "## Compléments :"
   ]
  },
  {
   "cell_type": "markdown",
   "metadata": {},
   "source": [
    "On peut modifier le paramètre proba"
   ]
  },
  {
   "cell_type": "code",
   "execution_count": null,
   "metadata": {},
   "outputs": [],
   "source": [
    "plt.close() # pour fermer l'ancien graphe\n",
    "\n",
    "noeuds =200\n",
    "liens = 5\n",
    "proba=0.5 # à modifier pour étudier l'influence\n",
    "\n",
    "G4 = nx.newman_watts_strogatz_graph(noeuds, liens, proba, seed = 12345 )\n",
    "fig = plt.figure(\"Petit monde\", figsize=(10, 10))\n",
    "pos = nx.spring_layout(G4)\n",
    "nx.draw(G4,pos)\n",
    "fig.tight_layout()\n",
    "plt.show()\n",
    "\n",
    "print(\"en moyenne, le plus court chemin vaut :\",nx.average_shortest_path_length(G4))"
   ]
  }
 ],
 "metadata": {
  "kernelspec": {
   "display_name": "Python 3",
   "language": "python",
   "name": "python3"
  },
  "language_info": {
   "codemirror_mode": {
    "name": "ipython",
    "version": 3
   },
   "file_extension": ".py",
   "mimetype": "text/x-python",
   "name": "python",
   "nbconvert_exporter": "python",
   "pygments_lexer": "ipython3",
   "version": "3.7.9"
  }
 },
 "nbformat": 4,
 "nbformat_minor": 4
}

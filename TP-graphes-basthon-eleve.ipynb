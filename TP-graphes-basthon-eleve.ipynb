{
 "cells": [
  {
   "cell_type": "markdown",
   "metadata": {},
   "source": [
    "# TP - Réseaux sociaux et graphes"
   ]
  },
  {
   "cell_type": "markdown",
   "metadata": {},
   "source": [
    "__Introduction :__\n",
    "\n",
    "La notion de «réseau social» apparaît bien avant les réseaux sociaux sur internet ; elle est étudiée à la fin du 19ème siècle en sciences sociales, puis à nouveau dans le courant du vingtième siècle.\n",
    "\n",
    "Un réseau social est un ensemble de liens entre individus, cet ensemble constituant une communauté qui partage des convictions ou des valeurs. L’analyse des réseaux sociaux utilise des graphes pour représenter un réseau. \n",
    "\n",
    "Le terme de «réseau social» désigne également des applications web qui offrent de mettre en relation des internautes afin de discuter de leurs centres d’intérêts.\n",
    "\n",
    "\n"
   ]
  },
  {
   "cell_type": "markdown",
   "metadata": {},
   "source": [
    "## Rappel de vocabulaire sur les graphes"
   ]
  },
  {
   "cell_type": "markdown",
   "metadata": {},
   "source": [
    "Les personnes sont représentées par les **sommets** du graphe et relations d’amitié par les **arêtes**.\n",
    "\n",
    "La **distance** entre deux sommets est le nombre minimum d’arêtes qu’il faut parcourir pour aller d’un sommet à un autre.\n",
    "\n",
    "Le **diamètre** d’un graphe est la distance maximale entre deux sommets de ce graphe. \n",
    "\n",
    "Le **centre** d’un graphe est l’ensemble des sommets d’écartement minimal. \n",
    "\n",
    "Le **rayon** d’un graphe est l’écartement d’un des sommets du centre du graphe. \n"
   ]
  },
  {
   "cell_type": "markdown",
   "metadata": {},
   "source": [
    "<div class=\"alert alert-info\" role=\"alert\">\n",
    "  <strong>Travail à faire sur le notebook : </strong> <br>\n",
    "    Pour les cellules suivantes, appuyez sur <strong>shift entrée</strong> pour lancer le code Python contenu dans chaque cellule\n",
    "</div>"
   ]
  },
  {
   "cell_type": "code",
   "execution_count": null,
   "metadata": {},
   "outputs": [],
   "source": [
    "# importation du module \"matplotlib\" pour créer des graphiques\n",
    "import matplotlib.pyplot as plt\n",
    "\n",
    "# importation du module \"networkx\" pour simuler un réseau social\n",
    "import networkx as nx\n",
    "import warnings\n",
    "warnings.filterwarnings(\"ignore\", category=UserWarning) # pour filtrer erreur sur fonction deprecated"
   ]
  },
  {
   "cell_type": "markdown",
   "metadata": {},
   "source": [
    "## 1 - Comment tracer un graphe en Python"
   ]
  },
  {
   "cell_type": "markdown",
   "metadata": {},
   "source": [
    "On veut tracer le graphe de la feuille de TD correspondant aux relations entre 6 personnes A, B,C, D, E et F :\n",
    "<img src=\"https://raw.githubusercontent.com/CDERYCKE/SNT-Social/c3315cd7c5bb3366590e09dc1a1c22addc5e86c0/images/graphe1.jpg\" title=\"graphe à tracer\" width=700, height=300 align=\"center\" />"
   ]
  },
  {
   "cell_type": "code",
   "execution_count": null,
   "metadata": {},
   "outputs": [],
   "source": [
    "# création d'un graphe vide non orienté appelé \"monReseau\"\n",
    "monReseau = nx.Graph()\n",
    "\n",
    "monReseau.add_node(\"A\") # ajoute un sommet / un noeud nommé \"A\"\n",
    "monReseau.add_node(\"B\")\n",
    "monReseau.add_node(\"C\")\n",
    "monReseau.add_node(\"D\")\n",
    "monReseau.add_node(\"E\")\n",
    "monReseau.add_node(\"F\")\n",
    "\n",
    "# dessine (draw) et affiche (show) le graphe \"monReseau\"\n",
    "nx.draw(monReseau, with_labels=True)\n",
    "plt.show()\n"
   ]
  },
  {
   "cell_type": "markdown",
   "metadata": {},
   "source": [
    "Il faut maintenant ajouter les liens entre les différents noeuds (sommets) du réseau :"
   ]
  },
  {
   "cell_type": "code",
   "execution_count": null,
   "metadata": {},
   "outputs": [],
   "source": [
    "plt.close() # nécessaire sous basthon pour remettre l'affichage à zéro\n",
    "\n",
    "# création d'un graphe vide non orienté appelé \"monReseau\"\n",
    "monReseau = nx.Graph()\n",
    "\n",
    "monReseau.add_node(\"A\") # ajoute un sommet / un noeud nommé \"A\"\n",
    "monReseau.add_node(\"B\")\n",
    "monReseau.add_node(\"C\")\n",
    "monReseau.add_node(\"D\")\n",
    "monReseau.add_node(\"E\")\n",
    "monReseau.add_node(\"F\")\n",
    "\n",
    "# on ajoute les arêtes entre les sommets\n",
    "\n",
    "monReseau.add_edge(\"A\", \"B\") # ajoute une arête entre A et B\n",
    "monReseau.add_edge(\"A\", \"C\")\n",
    "monReseau.add_edge(\"A\", \"D\")\n",
    "monReseau.add_edge(\"D\", \"F\")\n",
    "\n",
    "# dessine (draw) et affiche (show) le graphe \"monReseau\"\n",
    "nx.draw(monReseau, with_labels=True)\n",
    "plt.show()"
   ]
  },
  {
   "cell_type": "markdown",
   "metadata": {},
   "source": [
    "E est tout seul !\n",
    "\n",
    "Il manque des liens entre des personnes du réseau !\n"
   ]
  },
  {
   "cell_type": "markdown",
   "metadata": {},
   "source": [
    "<div class=\"alert alert-info\" role=\"alert\">\n",
    "  <strong>Travail à faire sur le notebook : </strong> <br>\n",
    "    Ajouter ci-dessous les lignes de code nécessaires pour obtenir le graphe voulu :\n",
    "<img src=\"https://raw.githubusercontent.com/CDERYCKE/SNT-Social/c3315cd7c5bb3366590e09dc1a1c22addc5e86c0/images/graphe1.jpg\" title=\"graphe à tracer\" width=700, height=300 align=\"center\" />\n",
    "</div>"
   ]
  },
  {
   "cell_type": "code",
   "execution_count": null,
   "metadata": {},
   "outputs": [],
   "source": [
    "# votre code ici\n",
    "plt.close() # nécessaire sous basthon pour remettre l'affichage à zéro\n",
    "\n",
    "# création d'un graphe vide non orienté appelé \"monReseau\"\n",
    "monReseau = nx.Graph()\n",
    "\n",
    "monReseau.add_node(\"A\") # ajoute un sommet / un noeud nommé \"A\"\n",
    "monReseau.add_node(\"B\")\n",
    "monReseau.add_node(\"C\")\n",
    "monReseau.add_node(\"D\")\n",
    "monReseau.add_node(\"E\")\n",
    "monReseau.add_node(\"F\")\n",
    "\n",
    "# on ajoute les arêtes entre les sommets\n",
    "\n",
    "monReseau.add_edge(\"A\", \"B\") # ajoute une arête entre A et B\n",
    "monReseau.add_edge(\"A\", \"C\")\n",
    "monReseau.add_edge(\"A\", \"D\")\n",
    "monReseau.add_edge(\"D\", \"F\")\n",
    "\n",
    "\n",
    "\n",
    "\n",
    "\n",
    "# dessine (draw) et affiche (show) le graphe \"monReseau\"\n",
    "nx.draw(monReseau, with_labels=True)\n",
    "plt.show()"
   ]
  },
  {
   "cell_type": "markdown",
   "metadata": {},
   "source": [
    "<div class=\"alert alert-warning\" role=\"alert\">\n",
    "    <strong> Travail à faire sur la fiche réponse : </strong> <br>\n",
    "    --> Répondre aux questions.  \n",
    "</div>"
   ]
  },
  {
   "cell_type": "markdown",
   "metadata": {},
   "source": [
    "***"
   ]
  },
  {
   "cell_type": "markdown",
   "metadata": {},
   "source": [
    "On peut obtenir des informations sur le graphe : nombre de personnes ( noeud ou node en anglais), nombre de liens (arêtes ou edge en anglais)"
   ]
  },
  {
   "cell_type": "code",
   "execution_count": null,
   "metadata": {},
   "outputs": [],
   "source": [
    "print(\"Nombre de personnes =\", monReseau.number_of_nodes())\n",
    "print(\"Nombre de liens =\", monReseau.number_of_edges())"
   ]
  },
  {
   "cell_type": "markdown",
   "metadata": {},
   "source": [
    "Pour obtenir d'autres informations comme le diamètre, le rayon, le centre, il faut importer d'autres fonctions du module networkx"
   ]
  },
  {
   "cell_type": "markdown",
   "metadata": {},
   "source": [
    "<div class=\"alert alert-info\" role=\"alert\">\n",
    "  <strong>Travail à faire sur le notebook : </strong> <br>\n",
    "    Pour les cellules suivantes, appuyez sur shift entrée pour lancer le code Python contenu dans cette cellule\n",
    "</div>"
   ]
  },
  {
   "cell_type": "code",
   "execution_count": null,
   "metadata": {},
   "outputs": [],
   "source": [
    "from networkx import diameter,radius,center"
   ]
  },
  {
   "cell_type": "code",
   "execution_count": null,
   "metadata": {},
   "outputs": [],
   "source": [
    "print(\"Diamètre=\", diameter(monReseau)) \n",
    "print(\"Rayon=\", radius(monReseau))\n",
    "print(\"Centre=\", center(monReseau))"
   ]
  },
  {
   "cell_type": "markdown",
   "metadata": {},
   "source": [
    "<div class=\"alert alert-warning\" role=\"alert\">\n",
    "    <strong> Travail à faire sur la fiche réponse : </strong> <br>\n",
    "    --> Répondre aux questions\n",
    "</div>"
   ]
  },
  {
   "cell_type": "markdown",
   "metadata": {},
   "source": [
    "## 2 - Réseaux sociaux et histoire : Les Médicis à Florence"
   ]
  },
  {
   "cell_type": "markdown",
   "metadata": {},
   "source": [
    "Pourquoi les Médicis ont-ils réussi à s’imposer à Florence, face à des familles et clans tout aussi puissants qu’eux ?\n",
    "\n",
    "Le pouvoir des Médicis sur la cité florentine s’établit au début du XVe siècle grâce à Cosimo de’ Medici (1389-1464), dit aussi Cosme l’ancien. Leur ascension peut initialement paraître surprenante, les Médicis étant une famille objectivement moins puissante que bien d’autres familles de l’oligarchie alors au pouvoir.\n",
    "\n",
    "Les Strozzi, par exemple étaient à la fois plus riches, et plus puissants politiquement, possédant notamment plus de sièges dans les instances législatives.\n",
    "\n",
    "Les relations entre les familles florentines sont déjà codées dans le module networkx.\n"
   ]
  },
  {
   "cell_type": "markdown",
   "metadata": {},
   "source": [
    "<div class=\"alert alert-info\" role=\"alert\">\n",
    "  <strong>Travail à faire sur le notebook : </strong> <br>\n",
    "    Pour les cellules suivantes, appuyez sur shift entrée pour lancer le code Python contenu dans cette cellule <br>\n",
    "    \n",
    "</div>"
   ]
  },
  {
   "cell_type": "code",
   "execution_count": null,
   "metadata": {},
   "outputs": [],
   "source": [
    "plt.close()\n",
    "F=nx.florentine_families_graph() #\n",
    "nx.draw(F, with_labels=True)\n",
    "\n",
    "plt.show()"
   ]
  },
  {
   "cell_type": "markdown",
   "metadata": {},
   "source": [
    "**Que représente ce graphe ?**\n",
    "\n",
    "liens par mariages entre les familles importantes de la ville de Florence pendant le 15e siècle.\n",
    "\n",
    "Il s'agit de la période aucours de laquelle les Médicis ont pris le pouvoir dans la ville de Florence.\n",
    "\n",
    "Plusieurs mariages \"clés\" ont été organisés par “Cosimo de Medici”"
   ]
  },
  {
   "cell_type": "markdown",
   "metadata": {},
   "source": [
    "<div class=\"alert alert-info\" role=\"alert\">\n",
    "  <strong>Travail à faire sur le notebook : </strong> <br>\n",
    "Le graphe s'appelle F.\n",
    "En s'inspirant de l'exemple précédent , proposez les lignes de code qui déterminent centre, diamètre et rayon de ce graphe    \n",
    "</div>"
   ]
  },
  {
   "cell_type": "code",
   "execution_count": null,
   "metadata": {},
   "outputs": [],
   "source": [
    "# votre code ici"
   ]
  },
  {
   "cell_type": "markdown",
   "metadata": {},
   "source": [
    "Les Médicis sont bien au centre du graphe mais ils ne sont pas les seuls !\n",
    "\n",
    "On peut étudier le degré du noeud correspondant aux Médicis : le degré d'un sommet est le nombre d'arêtes qui partent de ce sommet (ses liens)."
   ]
  },
  {
   "cell_type": "code",
   "execution_count": null,
   "metadata": {},
   "outputs": [],
   "source": [
    "F.degree('Medici')"
   ]
  },
  {
   "cell_type": "markdown",
   "metadata": {},
   "source": [
    "et on peut faire une boucle pour comparer aux autres familles :"
   ]
  },
  {
   "cell_type": "code",
   "execution_count": null,
   "metadata": {},
   "outputs": [],
   "source": [
    "for name in F.nodes():\n",
    "    print( name, F.degree(name))"
   ]
  },
  {
   "cell_type": "markdown",
   "metadata": {},
   "source": [
    "Notre approche (simpliste) permet de vérifier le rôle crucial tenu par la famille des Médicis grâce aux mariages avec d'autres familles florentines."
   ]
  },
  {
   "cell_type": "markdown",
   "metadata": {},
   "source": [
    "***\n",
    "\n"
   ]
  },
  {
   "cell_type": "markdown",
   "metadata": {},
   "source": [
    "Approfondissons un peu :-)"
   ]
  },
  {
   "cell_type": "markdown",
   "metadata": {},
   "source": [
    "Les Médicis sont bien au centre du graphe mais ils ne sont pas les seuls !\n",
    "\n",
    "Il existe plusieurs méthodes pour explorer la notion de centralité :\n"
   ]
  },
  {
   "cell_type": "markdown",
   "metadata": {},
   "source": [
    "<img src=\"https://raw.githubusercontent.com/CDERYCKE/SNT-Social/master/images/Centralities.jpg \" title=\"graphe à tracer\" align=\"center\" />"
   ]
  },
  {
   "cell_type": "markdown",
   "metadata": {},
   "source": [
    "**La centralité de degré :**\n",
    "\n",
    "La centralité de degré se mesure au nombre de liens à partir d'un sommet (taille du réseau d’un acteur).  \n",
    "On peut l’interpréter en disant que plus un acteur est central, plus il est « actif » dans le système.  \n",
    "  \n",
    "La centralité de degré peut permettre de répondre aux questions suivantes :\n",
    "\n",
    "Qui sont les plus grands influenceurs sur un réseau social ?  \n",
    "Quel aéroport offre le plus grand nombre de destinations ?"
   ]
  },
  {
   "cell_type": "code",
   "execution_count": null,
   "metadata": {},
   "outputs": [],
   "source": [
    "nx.degree_centrality(F) # plus le nombre est grand, mieux c'est"
   ]
  },
  {
   "cell_type": "markdown",
   "metadata": {},
   "source": [
    "**La centralité d'intermédiaire: betweenness :** \n",
    "\n",
    "La centralité d’intermédiarité est basée sur l’idée du contrôle exercé par l’acteur sur les interactions entre deux autres acteurs.\n",
    "Lorsque deux acteurs ne sont pas adjacents, ils dépendent d’autres acteurs du groupe pour leurs échanges, en particulier des acteurs qui se trouvent sur le chemin entre eux et qui ont la capacité d’interrompre la circulation des ressources.\n",
    "Plus un acteur se trouve « au milieu », passage obligé sur des chemins que d’autres doivent emprunter pour se rejoindre, plus il est central de ce point de vue.\n",
    "\n",
    "Elle est égale au nombre de fois que ce sommet est sur le chemin le plus court entre deux autres nœuds\n",
    "quelconques du graphe. Un noeud possède une grande intermédiarité s'il a une grande influence sur les transferts d'informations dans le réseau\n",
    "(sous l'hypothèse que ces transferts se font uniquement par les chemins les plus courts).  \n",
    "\n",
    "La centralité d’intermédiarité peut permettre de répondre aux questions suivantes :  \n",
    "\n",
    "Quels individus connectent plusieurs cellules d’un réseau criminel donné ?  \n",
    "Dans chaque pays, quelle fermeture d’aéroport aurait l’impact le plus fort sur le réseau de transport aérien ?  \n",
    "Quelle personne permet de mettre en contact 2 communautés différentes ?"
   ]
  },
  {
   "cell_type": "markdown",
   "metadata": {},
   "source": [
    "La fonction qui effectue ce calcul est ‘betweenness_centrality' et elle est importée du module networkx (nx en raccourci).  \n",
    "* Ecrire la ligne de code qui permet d'obtenir les centralités d'intermédiaire."
   ]
  },
  {
   "cell_type": "code",
   "execution_count": null,
   "metadata": {},
   "outputs": [],
   "source": [
    "# votre code ici"
   ]
  },
  {
   "cell_type": "markdown",
   "metadata": {},
   "source": [
    "**La centralité de proximité d’un acteur - closeness :**  \n",
    "Elle se mesure au nombre minimum de pas qu’il doit effectuer pour entrer en contact avec les autres acteurs du système.  \n",
    "De ce point de vue, plus un acteur est central, plus il est « proche » des autres, plus il entre vite en contact ou interagit facilement avec eux.\n",
    "\n",
    "La centralité de proximité peut permettre de répondre aux questions suivantes :  \n",
    "\n",
    "Lors d’une épidémie, qui était le patient zéro le plus probable ?  \n",
    "Qui serait la meilleure personne ou la meilleure marque pour informer le plus de consommateurs à propos d’un produit sur les réseaux sociaux ?  "
   ]
  },
  {
   "cell_type": "code",
   "execution_count": null,
   "metadata": {},
   "outputs": [],
   "source": [
    "nx.closeness_centrality(F)"
   ]
  },
  {
   "cell_type": "markdown",
   "metadata": {},
   "source": [
    "**La centralité de vecteur propre (ressemble au PageRank de classement des pages web) :** \n",
    "\n",
    "La centralité de vecteur propre se base sur les nœuds importants connectés à d’autres nœuds importants.  \n",
    "Les personnes ayant des scores élevés de vecteurs propres ont de nombreuses connexions, et leurs connexions ont de nombreuses connexions, et leurs connexions ont de nombreuses connexions…  \n",
    "Les individus possédant un vecteur propre de centralité élevé sont considérés comme les leaders du réseau.  \n",
    "Ce sont souvent des personnalités publiques avec de nombreux liens avec d’autres personnes à haut profil. Ainsi, ils jouent souvent des rôles de leaders d’opinion clés et façonnent la perception du public. \n",
    "\n",
    "La centralité de vecteur propre peut permettre de répondre aux questions suivantes :\n",
    "\n",
    "Existe-t-il des groupes de personnes très influentes sur un réseau social donné ? De qui s’agit-il ?"
   ]
  },
  {
   "cell_type": "code",
   "execution_count": null,
   "metadata": {},
   "outputs": [],
   "source": [
    "for node in F.nodes(): \n",
    "    print(node, nx.eigenvector_centrality(F, max_iter=1000)[node])"
   ]
  },
  {
   "cell_type": "code",
   "execution_count": null,
   "metadata": {},
   "outputs": [],
   "source": [
    "nx.pagerank(F) # plus le nombre est grand, mieux c'est"
   ]
  },
  {
   "cell_type": "markdown",
   "metadata": {},
   "source": [
    "<div class=\"alert alert-info\" role=\"alert\">\n",
    "  <strong>Travail à faire sur le notebook : </strong> <br>\n",
    "    Pouvez-vous confirmer l'approche initiale sur le caractère central de la falille Médicis ?\n",
    "</div>"
   ]
  },
  {
   "cell_type": "markdown",
   "metadata": {},
   "source": []
  },
  {
   "cell_type": "markdown",
   "metadata": {},
   "source": [
    "<div class=\"alert alert-success\" role=\"alert\">\n",
    " <strong> Le travail est terminé !</strong> <br>\n",
    "</div>"
   ]
  }
 ],
 "metadata": {
  "kernelspec": {
   "display_name": "Python 3",
   "language": "python",
   "name": "python3"
  },
  "language_info": {
   "codemirror_mode": {
    "name": "ipython",
    "version": 3
   },
   "file_extension": ".py",
   "mimetype": "text/x-python",
   "name": "python",
   "nbconvert_exporter": "python",
   "pygments_lexer": "ipython3",
   "version": "3.7.9"
  }
 },
 "nbformat": 4,
 "nbformat_minor": 4
}

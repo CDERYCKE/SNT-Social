{
 "cells": [
  {
   "cell_type": "markdown",
   "metadata": {},
   "source": [
    "# TP - Réseaux sociaux et graphes"
   ]
  },
  {
   "cell_type": "markdown",
   "metadata": {},
   "source": [
    "__Introduction :__\n",
    "\n",
    "La notion de «réseau social» apparaît bien avant les réseaux sociaux sur internet ; elle est étudiée à la fin du 19ème siècle en sciences sociales, puis à nouveau dans le courant du vingtième siècle.\n",
    "\n",
    "Un réseau social est un ensemble de liens entre individus, cet ensemble constituant une communauté qui partage des convictions ou des valeurs. L’analyse des réseaux sociaux utilise des graphes pour représenter un réseau. \n",
    "\n",
    "Le terme de «réseau social» désigne également des applications web qui offrent de mettre en relation des internautes afin de discuter de leurs centres d’intérêts.\n",
    "\n",
    "\n"
   ]
  },
  {
   "cell_type": "markdown",
   "metadata": {},
   "source": [
    "## Rappel de vocabulaire sur les graphes"
   ]
  },
  {
   "cell_type": "markdown",
   "metadata": {},
   "source": [
    "Les personnes sont représentées par les **sommets** du graphe et relations d’amitié par les **arêtes**.\n",
    "\n",
    "La **distance** entre deux sommets est le nombre minimum d’arêtes qu’il faut parcourir pour aller d’un sommet à un autre.\n",
    "\n",
    "Le **diamètre** d’un graphe est la distance maximale entre deux sommets de ce graphe. \n",
    "\n",
    "Le **centre** d’un graphe est l’ensemble des sommets d’écartement minimal. \n",
    "\n",
    "Le **rayon** d’un graphe est l’écartement d’un des sommets du centre du graphe. \n"
   ]
  },
  {
   "cell_type": "markdown",
   "metadata": {},
   "source": [
    "<div class=\"alert alert-info\" role=\"alert\">\n",
    "  <strong>Travail à faire sur le notebook : </strong> <br>\n",
    "    Pour les cellules suivantes, appuyez sur shift entrée pour lancer le code Python contenu dans chaque cellule\n",
    "</div>"
   ]
  },
  {
   "cell_type": "code",
   "execution_count": null,
   "metadata": {},
   "outputs": [],
   "source": [
    "!pip install networkx # installe la bibliothèque utile pour géreer des graphes\n",
    "!pip install matplotlib\n",
    "%matplotlib inline"
   ]
  },
  {
   "cell_type": "code",
   "execution_count": null,
   "metadata": {},
   "outputs": [],
   "source": [
    "# importation du module \"matplotlib\" pour créer des graphiques\n",
    "import matplotlib.pyplot as plt\n",
    "# importation du module \"networkx\" pour simuler un réseau social\n",
    "import networkx as nx\n",
    "import warnings\n",
    "warnings.filterwarnings(\"ignore\", category=UserWarning) # pour filtrer erreur sur fonction deprecated"
   ]
  },
  {
   "cell_type": "markdown",
   "metadata": {},
   "source": [
    "## 1 - Comment tracer un graphe en Python"
   ]
  },
  {
   "cell_type": "markdown",
   "metadata": {},
   "source": [
    "On veut tracer le graphe suivant correspondant aux relations entre 6 personnes A, B,C, D, E et F :\n",
    "<img src=\"./images/graphe1.jpg\" title=\"Python Logo\" width=700, height=300 align=\"center\" />"
   ]
  },
  {
   "cell_type": "code",
   "execution_count": null,
   "metadata": {},
   "outputs": [],
   "source": [
    "# création d'un graphe vide non orienté appelé \"monReseau\"\n",
    "monReseau = nx.Graph()\n",
    "\n",
    "monReseau.add_node(\"A\") # ajoute un sommet / un noeud nommé \"A\"\n",
    "monReseau.add_node(\"B\")\n",
    "monReseau.add_node(\"C\")\n",
    "monReseau.add_node(\"D\")\n",
    "monReseau.add_node(\"E\")\n",
    "monReseau.add_node(\"F\")\n",
    "\n",
    "# dessine (draw) et affiche (show) le graphe \"monReseau\"\n",
    "nx.draw(monReseau, with_labels=True)\n",
    "plt.show()\n"
   ]
  },
  {
   "cell_type": "code",
   "execution_count": null,
   "metadata": {},
   "outputs": [],
   "source": [
    "monReseau.add_edge(\"A\", \"B\") # ajoute une arête entre A et B\n",
    "monReseau.add_edge(\"A\", \"C\")\n",
    "monReseau.add_edge(\"A\", \"D\")\n",
    "monReseau.add_edge(\"D\", \"F\")\n",
    "\n",
    "nx.draw(monReseau, with_labels=True)\n",
    "plt.show()"
   ]
  },
  {
   "cell_type": "markdown",
   "metadata": {},
   "source": [
    "E est tout seul !\n",
    "\n",
    "Il manque des liens entre des personnes du réseau !\n"
   ]
  },
  {
   "cell_type": "markdown",
   "metadata": {},
   "source": [
    "<div class=\"alert alert-info\" role=\"alert\">\n",
    "  <strong>Travail à faire sur le notebook : </strong> <br>\n",
    "    Ajouter ci-dessous les lignes de code nécessaires pour obtenir le graphe voulu :\n",
    "<img src=\"./images/graphe1.jpg\" title=\"Python Logo\" width=700, height=300 align=\"center\" />\n",
    "</div>"
   ]
  },
  {
   "cell_type": "code",
   "execution_count": null,
   "metadata": {},
   "outputs": [],
   "source": [
    "# votre code ici\n",
    "monReseau.?????????\n",
    "\n",
    "\n",
    "\n",
    "nx.draw(monReseau, with_labels=True)\n",
    "plt.show()"
   ]
  },
  {
   "cell_type": "markdown",
   "metadata": {},
   "source": [
    "<div class=\"alert alert-warning\" role=\"alert\">\n",
    "    <strong> Travail à faire sur la fiche réponse : </strong> <br>\n",
    "    --> Recopier les lignes de code ajoutées\n",
    "</div>"
   ]
  },
  {
   "cell_type": "markdown",
   "metadata": {},
   "source": [
    "***"
   ]
  },
  {
   "cell_type": "markdown",
   "metadata": {},
   "source": [
    "On peut obtenir des informations sur le graphe : nombre de personnes ( noeud ou node en anglais), nombre de liens (arêtes ou edge en anglais)"
   ]
  },
  {
   "cell_type": "code",
   "execution_count": null,
   "metadata": {},
   "outputs": [],
   "source": [
    "print(\"Nombre de personnes =\", monReseau.number_of_nodes())\n",
    "print(\"Nombre de liens =\", monReseau.number_of_edges())"
   ]
  },
  {
   "cell_type": "markdown",
   "metadata": {},
   "source": [
    "Pour obtenir d'autres informations comme le diamètre, le rayon, le centre, il faut importer d'autres fonctions du module networkx"
   ]
  },
  {
   "cell_type": "markdown",
   "metadata": {},
   "source": [
    "<div class=\"alert alert-info\" role=\"alert\">\n",
    "  <strong>Travail à faire sur le notebook : </strong> <br>\n",
    "    Pour les cellules suivantes, appuyez sur shift entrée pour lancer le code Python contenu dans cette cellule\n",
    "</div>"
   ]
  },
  {
   "cell_type": "code",
   "execution_count": null,
   "metadata": {},
   "outputs": [],
   "source": [
    "from networkx import diameter,radius,center"
   ]
  },
  {
   "cell_type": "code",
   "execution_count": null,
   "metadata": {},
   "outputs": [],
   "source": [
    "print(\"Diamètre=\", diameter(monReseau)) \n",
    "print(\"Rayon=\", radius(monReseau))\n",
    "print(\"Centre=\", center(monReseau))"
   ]
  },
  {
   "cell_type": "markdown",
   "metadata": {},
   "source": [
    "<div class=\"alert alert-warning\" role=\"alert\">\n",
    "    <strong> Travail à faire sur la fiche réponse : </strong> <br>\n",
    "    --> Répondre aux questions\n",
    "</div>"
   ]
  },
  {
   "cell_type": "markdown",
   "metadata": {},
   "source": [
    "## 2 - En complément : Les Médicis à Florence"
   ]
  },
  {
   "cell_type": "markdown",
   "metadata": {},
   "source": [
    "Pourquoi les Médicis ont-ils réussi à s’imposer à Florence, face à des familles et clans tout aussi puissants qu’eux ?\n",
    "\n",
    "Le pouvoir des Médicis sur la cité florentine s’établit au début du XVe siècle grâce à Cosimo de’ Medici (1389-1464), dit aussi Cosme l’ancien. Leur ascension peut initialement paraître surprenante, les Médicis étant une famille objectivement moins puissante que bien d’autres familles de l’oligarchie alors au pouvoir.\n",
    "\n",
    "Les Strozzi, par exemple étaient à la fois plus riches, et plus puissants politiquement, possédant notamment plus de sièges dans les instances législatives.\n",
    "\n",
    "Les relations entre les familles florentines sont déjà codées dans le module networkx.\n"
   ]
  },
  {
   "cell_type": "markdown",
   "metadata": {},
   "source": [
    "<div class=\"alert alert-info\" role=\"alert\">\n",
    "  <strong>Travail à faire sur le notebook : </strong> <br>\n",
    "    Pour les cellules suivantes, appuyez sur shift entrée pour lancer le code Python contenu dans cette cellule <br>\n",
    "    \n",
    "</div>"
   ]
  },
  {
   "cell_type": "code",
   "execution_count": null,
   "metadata": {},
   "outputs": [],
   "source": [
    "F=nx.florentine_families_graph() #\n",
    "nx.draw(F, with_labels=True)\n",
    "\n",
    "plt.show()"
   ]
  },
  {
   "cell_type": "markdown",
   "metadata": {},
   "source": [
    "**Que représente ce graphe ?**\n",
    "\n",
    "liens par mariages entre les familles importantes de la ville de Florence pendant le 15e siècle.\n",
    "\n",
    "Il s'agit de la période aucours de laquelle les Médicis ont pris le pouvoir dans la ville de Florence.\n",
    "\n",
    "Plusieurs mariages \"clés\" ont été organisés par “Cosimo de Medici”"
   ]
  },
  {
   "cell_type": "markdown",
   "metadata": {},
   "source": [
    "<div class=\"alert alert-info\" role=\"alert\">\n",
    "  <strong>Travail à faire sur le notebook : </strong> <br>\n",
    "Le graphe s'appelle F.\n",
    "En s'inspirant de l'exemple précédent , proposez une ligne de code qui détermine le centre de ce graphe    \n",
    "</div>"
   ]
  },
  {
   "cell_type": "code",
   "execution_count": null,
   "metadata": {},
   "outputs": [],
   "source": [
    "# votre code ici"
   ]
  },
  {
   "cell_type": "code",
   "execution_count": null,
   "metadata": {},
   "outputs": [],
   "source": []
  },
  {
   "cell_type": "markdown",
   "metadata": {},
   "source": [
    "Les Médicis sont bien au centre du graphe mais ils ne sont pas les seuls !\n",
    "\n",
    "On peut étudier le degré du noeud correspondant aux Médicis :"
   ]
  },
  {
   "cell_type": "code",
   "execution_count": null,
   "metadata": {},
   "outputs": [],
   "source": [
    "F.degree('Medici')"
   ]
  },
  {
   "cell_type": "markdown",
   "metadata": {},
   "source": [
    "et on peut faire une boucle pour comparer aux autres familles :"
   ]
  },
  {
   "cell_type": "code",
   "execution_count": null,
   "metadata": {},
   "outputs": [],
   "source": [
    "for name in F.nodes():\n",
    "    print( name, F.degree(name))"
   ]
  },
  {
   "cell_type": "markdown",
   "metadata": {},
   "source": [
    "Notre approche (simpliste) permet de vérifier le rôle crucial tenu par la famille des Médicis grâce aux mariages avec d'autres familles florentines."
   ]
  },
  {
   "cell_type": "markdown",
   "metadata": {},
   "source": [
    "<div class=\"alert alert-success\" role=\"alert\">\n",
    " <strong> Le travail est terminé !</strong> <br>\n",
    "</div>"
   ]
  },
  {
   "cell_type": "markdown",
   "metadata": {},
   "source": [
    "***\n",
    "***\n"
   ]
  }
 ],
 "metadata": {
  "kernelspec": {
   "display_name": "Python 3",
   "language": "python",
   "name": "python3"
  },
  "language_info": {
   "codemirror_mode": {
    "name": "ipython",
    "version": 3
   },
   "file_extension": ".py",
   "mimetype": "text/x-python",
   "name": "python",
   "nbconvert_exporter": "python",
   "pygments_lexer": "ipython3",
   "version": "3.7.6"
  }
 },
 "nbformat": 4,
 "nbformat_minor": 4
}
